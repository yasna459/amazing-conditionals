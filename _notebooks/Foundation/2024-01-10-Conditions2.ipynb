{
 "cells": [
  {
   "cell_type": "raw",
   "metadata": {
    "vscode": {
     "languageId": "raw"
    }
   },
   "source": [
    "---\n",
    "layout: post\n",
    "title: Conditions\n",
    "description: Condition Lesson\n",
    "categories: [Collarboration]\n",
    "permalink: /Conditions\n",
    "author: Katherine Law\n",
    "menu: nav/condition.html\n",
    "toc: true\n",
    "comments: true\n",
    "sticky_rank: 2\n",
    "---"
   ]
  },
  {
   "cell_type": "markdown",
   "metadata": {},
   "source": [
    "\n",
    "# All About Conditions\n",
    "\n",
    "## Faster ways ;)\n",
    "\n",
    "<b>Switch Statements</b>\n",
    "Switch Statements are much faster and effecient then writing a bunch of If Else Statements. A switch statement helps your program make choices based on a value. It checks the values with different cases, like options, and then runs the code for the matching case. If the value is unknown it runs the default option. \n",
    "\n",
    "<b>Benefits of Using Switch Statements</b>\n",
    "    - Readability: Easier to read and maintain when handling many possible values.\n",
    "    - Efficiency: Faster in some languages, as the implementation often uses a jump table or other optimization\n",
    "    - Structured Approach: Clearly separates conditions into cases.\n",
    "- For Example: If Color is Blue, it prints the color Blue. If Color is Pink, it prints the color Pink. If it is neither, it prints I dont know. \n",
    "\n",
    "Example in Code:"
   ]
  },
  {
   "cell_type": "code",
   "execution_count": null,
   "metadata": {
    "vscode": {
     "languageId": "javascript"
    }
   },
   "outputs": [],
   "source": [
    "switch (color) {\n",
    "    case \"Blue\":\n",
    "        System.out.println(\"The color is Blue.\");\n",
    "        break; // Stops further checks once this case runs\n",
    "    case \"Pink\":\n",
    "        System.out.println(\"The color is Pink.\");\n",
    "        break;\n",
    "    default:\n",
    "        System.out.println(\"I don't know the color.\");\n",
    "}"
   ]
  },
  {
   "cell_type": "markdown",
   "metadata": {},
   "source": [
    "<b>How It Works:</b>\n",
    "\n",
    "-The switch keyword is followed by the variable (color) to evaluate.\n",
    "\n",
    "-The program checks each case to find a match.\n",
    "\n",
    "-When a match is found, it executes the code under that case.\n",
    "\n",
    "-The break statement prevents the program from continuing to the next cases unnecessarily.\n",
    "\n",
    "-If no cases match, the default block runs."
   ]
  }
 ],
 "metadata": {
  "language_info": {
   "name": "python"
  }
 },
 "nbformat": 4,
 "nbformat_minor": 2
}
