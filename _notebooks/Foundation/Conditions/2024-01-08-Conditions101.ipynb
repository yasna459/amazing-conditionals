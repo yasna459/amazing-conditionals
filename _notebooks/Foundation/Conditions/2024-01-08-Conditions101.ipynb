{
 "cells": [
  {
   "cell_type": "raw",
   "metadata": {
    "vscode": {
     "languageId": "raw"
    }
   },
   "source": [
    "---\n",
    "layout: post\n",
    "title: Conditions\n",
    "description: Condition Lesson 1\n",
    "categories: [Collarboration]\n",
    "permalink: /Conditions1\n",
    "author: Katherine Law\n",
    "menu: nav/condition.html\n",
    "toc: true\n",
    "comments: true\n",
    "sticky_rank: 2\n",
    "---"
   ]
  },
  {
   "cell_type": "markdown",
   "metadata": {},
   "source": [
    "# All About Conditions\n",
    "\n",
    "## ***What is conditions?*** \n",
    "Conditional Statements are what happens next in the program when a certain condition is met. \n",
    "=======\n",
    "### **Key Components**\n",
    "Condition: A question the computer evaluates, such as \"is this true or false?\"\n",
    "\n",
    "Action: Checks if something is true or false\n",
    "\n",
    "Optional Action: Runs different parts of the code depending on that\n",
    "\n",
    "### **Conditional Statements**: \n",
    "There are many types of statements that all help do different things depending on the amount of values, answers and etc..\n",
    "\n",
    "<u>If Statements</u>: Checks if a condition is true and then executes something. \n",
    "- For example: If it's raining, take an umbrella\n",
    "\n",
    "<u>Branch Statements</u>: Provides multiple options depending on the condition.\n",
    "- For example: If it's raining, take an umbrella, if not wear sunglasses.\n",
    "\n",
    "<u>If Else Statements</u>: Checks if a condition is true or false and then provides an execution for both. \"If\" checks if something is true. \"Else\" checks if something is false.\n",
    "- For example: If you bought a membership the program will print \"Welcome in.\"\n",
    "If you didn't buy a membership the program will print \"Invalid Membership\"\n",
    "\n",
    "<u>Else If Statements</u>: Checks Multiple conditions first if they are true and if not does the final condition\n",
    "- For Example: If you are younger then 10: You get a popsicle\n",
    "If you are you 10 or older but not older then 20: You get a sandwhich\n",
    "If you are older or 20: \n",
    "\n",
    "\n",
    "\n",
    "\n"
   ]
  }
 ],
 "metadata": {
  "language_info": {
   "name": "python"
  }
 },
 "nbformat": 4,
 "nbformat_minor": 2
}
