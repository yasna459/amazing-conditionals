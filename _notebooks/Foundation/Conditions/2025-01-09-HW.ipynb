{
 "cells": [
  {
   "cell_type": "raw",
   "metadata": {
    "vscode": {
     "languageId": "raw"
    }
   },
   "source": [
    "---\n",
    "layout: post\n",
    "title: Homework\n",
    "description: Homework after condition lesson \n",
    "categories: [Collaboration]\n",
    "courses: { csse: {week: 0}, csp: {week: 0 }, csa: {week: 0}}\n",
    "type: collab\n",
    "menu: nav/condition.html\n",
    "permalink: /dog\n",
    "toc: true\n",
    "---"
   ]
  },
  {
   "cell_type": "markdown",
   "metadata": {},
   "source": [
    "## Homeworks \n",
    "\n",
    "Before starting the options, \n",
    "\n",
    "#### Option 1: Grade Checker \n",
    "Example for the grade checker:\n",
    "\n",
    "\"F\" if the grade is below 60.\n",
    "\"D\" if the grade is between 60 and 69.\n",
    "\"C\" if the grade is between 70 and 79.\n",
    "\"B\" if the grade is between 80 and 89.\n",
    "\"A\" if the grade is 90 or above.\n",
    "\n",
    "#### Option 2: Weather app\n",
    "Example for a weather app:\n",
    "\n",
    "If the weather is sunny, print: \"It's a great day to go outside!\"\n",
    "If the weather is rainy, print: \"Don't forget your umbrella!\"\n",
    "If the weather is snowy, print: \"Stay warm and safe!\"\n",
    "\n",
    "#### Option 3: Your idea\n",
    "Make any If-Then, If, or Then-If statements with different ideas.\n",
    "\n",
    "\n",
    "#### Tips:\n",
    "##### Format: "
   ]
  },
  {
   "cell_type": "code",
   "execution_count": null,
   "metadata": {
    "vscode": {
     "languageId": "javascript"
    }
   },
   "outputs": [],
   "source": [
    "let yourVariable = \"\"; // Change this to your input or value\n",
    "\n",
    "if (/* your first condition */) {\n",
    "    console.log(/* your first output */);\n",
    "} else if (/* your second condition */) {\n",
    "    console.log(/* your second output */);\n",
    "} else {\n",
    "    console.log(/* your default output */);\n",
    "}"
   ]
  },
  {
   "cell_type": "markdown",
   "metadata": {
    "vscode": {
     "languageId": "raw"
    }
   },
   "source": [
    "##### After testing any of the options, revise it and make another one from the options.\n"
   ]
  },
  {
   "cell_type": "markdown",
   "metadata": {},
   "source": [
    "aaaaaa"
   ]
  }
 ],
 "metadata": {
  "language_info": {
   "name": "python"
  }
 },
 "nbformat": 4,
 "nbformat_minor": 2
}
