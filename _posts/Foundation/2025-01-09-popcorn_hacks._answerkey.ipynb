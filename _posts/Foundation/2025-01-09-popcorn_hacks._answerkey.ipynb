{
 "cells": [
  {
   "cell_type": "raw",
   "metadata": {
    "vscode": {
     "languageId": "raw"
    }
   },
   "source": [
    "---\n",
    "layout: post\n",
    "title: Conditions Popcorn Hacks\n",
    "description: Popcorn hacks for conditions!\n",
    "categories: [Collaboration]\n",
    "courses: { csse: {week: 0}, csp: {week: 0 }, csa: {week: 0}}\n",
    "type: collab\n",
    "menu: nav/pair_programming.html\n",
    "permalink: /conditions-hacks\n",
    "toc: true\n",
    "---"
   ]
  },
  {
   "cell_type": "markdown",
   "metadata": {},
   "source": [
    "# Popcorn Hacks! - Answer Key\n",
    "\n",
    "### Hack 1: If-Statement\n"
   ]
  },
  {
   "cell_type": "code",
   "execution_count": null,
   "metadata": {
    "vscode": {
     "languageId": "javascript"
    }
   },
   "outputs": [],
   "source": [
    "// Prompt users for their favorite color\n",
    "let favoriteColor = prompt(\"What's your favorite color?\")\n",
    "\n",
    "// If their favorite color is pink, respond with a message\n",
    "if (favoriteColor === \"pink\") {\n",
    "    console.log(\"Pretty! That's my favorite color too! :D\");\n",
    "}"
   ]
  },
  {
   "cell_type": "markdown",
   "metadata": {},
   "source": [
    "### Hack 2: If-Else Statement"
   ]
  },
  {
   "cell_type": "code",
   "execution_count": null,
   "metadata": {
    "vscode": {
     "languageId": "javascript"
    }
   },
   "outputs": [],
   "source": [
    "// Prompt users for their favorite color\n",
    "let favoriteColor = prompt(\"What's your favorite color?\")\n",
    "\n",
    "// If their favorite color is pink, respond with a message, if not, respond with another message\n",
    "if (favoriteColor === \"pink\") {\n",
    "    console.log(\"Pretty! That's my favorite color too! :D\");\n",
    "} else {\n",
    "    console.log(\"Oh that's nice. I like pink! :)\")\n",
    "}"
   ]
  },
  {
   "cell_type": "markdown",
   "metadata": {},
   "source": [
    "### Hack 3: Else-If Statement"
   ]
  },
  {
   "cell_type": "code",
   "execution_count": null,
   "metadata": {
    "vscode": {
     "languageId": "javascript"
    }
   },
   "outputs": [],
   "source": [
    "// Prompt users for their favorite color\n",
    "let favoriteColor = prompt(\"What's your favorite color?\")\n",
    "\n",
    "// If their favorite color is pink, respond with a message, if not, respond with another message\n",
    "if (favoriteColor === \"pink\") {\n",
    "    console.log(\"Pretty! That's my favorite color too! :D\"); //Messages can change depending on what the coder wants the responses to be.\n",
    "} else if (favoriteColor === \"blue\") {\n",
    "    console.log(\"Oh... kinda overrated... :/\")\n",
    "} else {\n",
    "    console.log(\"Oh that's nice. I like pink! :)\");\n",
    "}"
   ]
  }
 ],
 "metadata": {
  "kernelspec": {
   "display_name": "venv",
   "language": "python",
   "name": "python3"
  },
  "language_info": {
   "name": "python",
   "version": "3.12.3"
  }
 },
 "nbformat": 4,
 "nbformat_minor": 2
}
