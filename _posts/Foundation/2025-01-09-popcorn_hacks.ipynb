{
 "cells": [
  {
   "cell_type": "raw",
   "metadata": {
    "vscode": {
     "languageId": "raw"
    }
   },
   "source": [
    "---\n",
    "layout: post\n",
    "title: Conditions Popcorn Hacks\n",
    "description: Popcorn hacks for conditions!\n",
    "categories: [Collaboration]\n",
    "courses: { csse: {week: 0}, csp: {week: 0 }, csa: {week: 0}}\n",
    "type: collab\n",
    "menu: nav/pair_programming.html\n",
    "permalink: /conditions-hacks\n",
    "toc: true\n",
    "---"
   ]
  },
  {
   "cell_type": "markdown",
   "metadata": {},
   "source": [
    "# Popcorn Hacks!\n",
    "Create simple systems of varying degrees that ask users what their favorite color is.\n",
    "\n",
    "### Hack 1: If-Statement\n",
    "Create a system that asks users what their favorite color is:\n",
    "\n",
    "Create a variable for the favorite color and a prompt to go along with it. Then, create an if-statement using the variable and a response message to go along with it."
   ]
  },
  {
   "cell_type": "code",
   "execution_count": null,
   "metadata": {
    "vscode": {
     "languageId": "javascript"
    }
   },
   "outputs": [],
   "source": [
    "// Prompt users for their favorite color\n",
    "let favoriteColor = prompt(\"What's your favorite color?\")\n",
    "\n",
    "// If their favorite color is pink, respond with a message\n",
    "if (favoriteColor === \"pink\") {\n",
    "    console.log(\"Pretty! That's my favorite color too! :D\");\n",
    "}"
   ]
  },
  {
   "cell_type": "markdown",
   "metadata": {},
   "source": [
    "### Hack 2: If-Else Statement\n",
    "Using the code from before as a base, you will make a system that uses an \"if-else\" statement prompting users on their favorite color."
   ]
  },
  {
   "cell_type": "code",
   "execution_count": null,
   "metadata": {
    "vscode": {
     "languageId": "javascript"
    }
   },
   "outputs": [],
   "source": [
    "// Prompt users for their favorite color\n",
    "let favoriteColor = prompt(\"What's your favorite color?\")\n",
    "\n",
    "// If their favorite color is pink, respond with a message, if not, respond with another message\n",
    "if (favoriteColor === \"pink\") {\n",
    "    console.log(\"Pretty! That's my favorite color too! :D\");\n",
    "} else {\n",
    "    console.log(\"Oh that's nice. I like pink! :)\")\n",
    "}"
   ]
  },
  {
   "cell_type": "markdown",
   "metadata": {},
   "source": [
    "### Hack 3: Else-If Statement\n",
    "Again, based off your last piece of code, update the system to use an \"else-if\" statement prompting users on their favorite color."
   ]
  },
  {
   "cell_type": "code",
   "execution_count": null,
   "metadata": {
    "vscode": {
     "languageId": "javascript"
    }
   },
   "outputs": [],
   "source": [
    "// Prompt users for their favorite color\n",
    "let favoriteColor = prompt(\"What's your favorite color?\")\n",
    "\n",
    "// If their favorite color is pink, respond with a message, if not, respond with another message\n",
    "if (favoriteColor === \"pink\") {\n",
    "    console.log(\"Pretty! That's my favorite color too! :D\");\n",
    "} else if (favoriteColor === \"blue\") {\n",
    "    console.log(\"Oh... kinda overrated... :/\")\n",
    "} else {\n",
    "    console.log(\"Oh that's nice. I like pink! :)\");\n",
    "}"
   ]
  },
  {
   "cell_type": "markdown",
   "metadata": {},
   "source": [
    "Great! Now you know how to use varying types of \"if-statements\" in your code! "
   ]
  }
 ],
 "metadata": {
  "language_info": {
   "name": "python"
  }
 },
 "nbformat": 4,
 "nbformat_minor": 2
}
